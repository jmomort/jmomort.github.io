{
 "cells": [
  {
   "cell_type": "code",
   "execution_count": 18,
   "metadata": {
    "collapsed": false
   },
   "outputs": [],
   "source": [
    "import pydot #remember to install graphviz on your system as well!\n",
    "import os"
   ]
  },
  {
   "cell_type": "code",
   "execution_count": 19,
   "metadata": {
    "collapsed": true
   },
   "outputs": [],
   "source": [
    "BEARD_PIC_FOLDER = './beard_pictures/'"
   ]
  },
  {
   "cell_type": "markdown",
   "metadata": {},
   "source": [
    "# Create graph of beards"
   ]
  },
  {
   "cell_type": "code",
   "execution_count": 20,
   "metadata": {
    "collapsed": true
   },
   "outputs": [],
   "source": [
    "dot_graph = pydot.Dot(graph_type='digraph') # visualization graph\n",
    "node_dict = {} # dict of nodes {node_name: pydot.Node}\n",
    "graph = {} # dict of edges {parent_node: list(child_node1, child_node2, ... , child_nodeK)}"
   ]
  },
  {
   "cell_type": "markdown",
   "metadata": {},
   "source": [
    "#### Make each node from a beard type"
   ]
  },
  {
   "cell_type": "markdown",
   "metadata": {},
   "source": [
    "Iterate through all the beard images in 'beard_pictures' by assuming all PNG files are beard images. \n",
    "\n",
    "Create an image node for each of these beards."
   ]
  },
  {
   "cell_type": "code",
   "execution_count": 21,
   "metadata": {
    "collapsed": false
   },
   "outputs": [],
   "source": [
    "files = os.listdir(BEARD_PIC_FOLDER)\n",
    "for file_name in files:\n",
    "    if not file_name.endswith('png'): \n",
    "        continue\n",
    "    # dot freaks out if you don't provide absolute paths...\n",
    "    file_path = os.path.abspath(os.path.join(BEARD_PIC_FOLDER, file_name))\n",
    "    with open(file_path) as beardpic:\n",
    "        node_name = file_name[:-4]  # remove .png        \n",
    "        n = pydot.Node(node_name, image=file_path, shape='box', label='\\n')\n",
    "        dot_graph.add_node(n)\n",
    "        node_dict[node_name] = n"
   ]
  },
  {
   "cell_type": "markdown",
   "metadata": {},
   "source": [
    "#### Make each \"can shave to\" edge between beard types"
   ]
  },
  {
   "cell_type": "markdown",
   "metadata": {},
   "source": [
    "Read in the pairs in *final_pairs_v3.csv*.\n",
    "Each line contains an edge in the graph. First entry is parent, second is child."
   ]
  },
  {
   "cell_type": "code",
   "execution_count": 22,
   "metadata": {
    "collapsed": false
   },
   "outputs": [],
   "source": [
    "graph['federationstandard'] = [] # sink of beard path\n",
    "with open('./beard_precedence_lists/final_pairs_v3.csv','rU') as beard_pairs:\n",
    "    for line in beard_pairs:\n",
    "        parent, child = line.strip().split(',')\n",
    "        \n",
    "        # add to visualization graph\n",
    "        dot_graph.add_edge(pydot.Edge(node_dict[parent], node_dict[child]))\n",
    "        \n",
    "        # add to our personal processing graph\n",
    "        children = graph.get(parent,[])\n",
    "        children.append(child)\n",
    "        graph[parent] = children"
   ]
  },
  {
   "cell_type": "markdown",
   "metadata": {},
   "source": [
    "Write out graph"
   ]
  },
  {
   "cell_type": "code",
   "execution_count": 23,
   "metadata": {
    "collapsed": false
   },
   "outputs": [
    {
     "data": {
      "text/plain": [
       "True"
      ]
     },
     "execution_count": 23,
     "metadata": {},
     "output_type": "execute_result"
    }
   ],
   "source": [
    "dot_graph.write_dot('beard_graph.dot')\n",
    "#dot_graph.write_gif('beard_graph.gif') #using gif so I don't pollute our beard PNGs\n",
    "dot_graph.write_pdf('beard_graph.pdf')"
   ]
  },
  {
   "cell_type": "markdown",
   "metadata": {},
   "source": [
    "# Find longest path in beard graph"
   ]
  },
  {
   "cell_type": "markdown",
   "metadata": {},
   "source": [
    "Starting at full beard (shortboxedbeard) and ending at clean shaven (federationstandard), we find the longest path in an equal edge cost graph. "
   ]
  },
  {
   "cell_type": "code",
   "execution_count": 24,
   "metadata": {
    "collapsed": true
   },
   "outputs": [],
   "source": [
    "START_NODE = 'shortboxedbeard'\n",
    "END_NODE = 'federationstandard'"
   ]
  },
  {
   "cell_type": "markdown",
   "metadata": {},
   "source": [
    "Forward pass through graph. Updates the parent of a child if the path to this child is longer than any other paths to the child"
   ]
  },
  {
   "cell_type": "code",
   "execution_count": 25,
   "metadata": {
    "collapsed": false
   },
   "outputs": [],
   "source": [
    "fringe = [START_NODE]\n",
    "pointer_scores = {} # dict{nodename: list(score, [list of parents to make this score])}\n",
    "\n",
    "\n",
    "for node in graph:\n",
    "    pointer_scores[node] = [1,[]] \n",
    "    \n",
    "while len(fringe) > 0:\n",
    "    cur_node = fringe.pop(0)\n",
    "    children = graph[cur_node]\n",
    "    new_score = pointer_scores[cur_node][0] + 1\n",
    "    \n",
    "    for child in children:\n",
    "        p = pointer_scores[child]\n",
    "        # if we found a higher score path, update teh pointer_scores\n",
    "        if new_score > p[0]:\n",
    "            p[0] = new_score\n",
    "            p[1] = [cur_node]\n",
    "            \n",
    "        # if equal value path, add this parent to the list\n",
    "        elif new_score == [child]:\n",
    "            p[1].append(cur_node)\n",
    "            \n",
    "        # bad path\n",
    "        else:\n",
    "            continue\n",
    "        \n",
    "        # this only works because DAG has no loops. Otherwise it would infinitely recurse\n",
    "        if child not in fringe:\n",
    "            fringe.append(child)"
   ]
  },
  {
   "cell_type": "markdown",
   "metadata": {},
   "source": [
    "Now backtrack on parents to retreive longest path(s)"
   ]
  },
  {
   "cell_type": "code",
   "execution_count": 26,
   "metadata": {
    "collapsed": true
   },
   "outputs": [],
   "source": [
    "paths = []\n",
    "# returns list of paths\n",
    "def backtrack(node_name):\n",
    "    if node_name == START_NODE:\n",
    "        return [[START_NODE]]\n",
    "    parents = pointer_scores[node_name][1]\n",
    "    path_list = []\n",
    "    for parent in parents:\n",
    "        for parent_path in backtrack(parent):\n",
    "            path_list.append(parent_path + [node_name])\n",
    "    return path_list"
   ]
  },
  {
   "cell_type": "markdown",
   "metadata": {},
   "source": [
    "Create images of all backtracked paths"
   ]
  },
  {
   "cell_type": "code",
   "execution_count": 27,
   "metadata": {
    "collapsed": false
   },
   "outputs": [],
   "source": [
    "dot_graphs = []\n",
    "for path_num, path in enumerate(backtrack(END_NODE)):\n",
    "    path_graph = pydot.Dot(graph_type='digraph')\n",
    "    for node_num, node in enumerate(path):\n",
    "        path_graph.add_node(node_dict[node])\n",
    "        if node_num != 0:\n",
    "            path_graph.add_edge(pydot.Edge(node_dict[path[node_num-1]], node_dict[node]))\n",
    "            \n",
    "    dot_graphs.append(path_graph)\n",
    "    path_graph.write_png('optimal_beard_path_%s.png' % path_num)"
   ]
  }
 ],
 "metadata": {
  "kernelspec": {
   "display_name": "Python 2",
   "language": "python",
   "name": "python2"
  },
  "language_info": {
   "codemirror_mode": {
    "name": "ipython",
    "version": 2
   },
   "file_extension": ".py",
   "mimetype": "text/x-python",
   "name": "python",
   "nbconvert_exporter": "python",
   "pygments_lexer": "ipython2",
   "version": "2.7.6"
  }
 },
 "nbformat": 4,
 "nbformat_minor": 0
}
